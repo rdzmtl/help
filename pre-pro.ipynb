{
 "cells": [
  {
   "cell_type": "code",
   "execution_count": null,
   "id": "9356c4e3",
   "metadata": {},
   "outputs": [],
   "source": [
    "# Dropping columns ID and Var_1\n",
    "#cust.drop(['ID','Var_1'],axis=1,inplace=True)\n",
    "\n",
    "# null\n",
    "#cust.isnull().sum()\n",
    "#cust.dropna(inplace=True)\n",
    "\n",
    "# fill null values with mean and median\n",
    "#cust['age']=cust['age'].fillna(kd['age'].median())\n",
    "#cust['rbc']=cust['rbc'].fillna(kd['rbc'].mode()[0])\n",
    "\n",
    "\n",
    "# to check unique values\n",
    "#cust.nunique()\n",
    "\n",
    "\n",
    "# Drop all rows having Family_Size values as 7.0, 8.0 and 9.0\n",
    "#df = cust[ cust['Family_Size']==7.0 ].index\n",
    "#df1 = cust[ cust['Family_Size']==8.0 ].index\n",
    "#df2 = cust[ cust['Family_Size']==9.0 ].index\n",
    "#cust.drop(df, inplace = True)\n",
    "#cust.drop(df1, inplace = True)\n",
    "#cust.drop(df2, inplace = True)\n",
    "\n",
    "# Defining target and feature\n",
    "#y=cust['Segmentation']\n",
    "#x=cust.drop(['Segmentation'],axis=1)\n",
    "\n",
    "# One Hot Encoding\n",
    "#x1=pd.get_dummies(x,columns=['Gender','Ever_Married','Graduated','Profession','Spending_Score'])   \n",
    "# (Here x is features)\n",
    "\n",
    "#Normalization\n",
    "#from sklearn.preprocessing import StandardScaler\n",
    "#scaler=StandardScaler()\n",
    "#X_scaled=scaler.fit_transform(x1)\n",
    "#X_scaled\n",
    "\n",
    "#Transform the target values to respective labels.\n",
    "#from sklearn.preprocessing import LabelEncoder\n",
    "#le = LabelEncoder()\n",
    "#y = le.fit_transform(y)\n",
    "# (Here y is our target variable)\n",
    "\n",
    "#Splitting\n",
    "#from sklearn.model_selection import train_test_split\n",
    "#X_train,X_test,y_train,y_test=train_test_split(X_scaled,y,\n",
    "#test_size=0.2,random_state=10)\n",
    "#X_train.shape,X_test.shape,y_train.shape,y_test.shape\n"
   ]
  }
 ],
 "metadata": {
  "kernelspec": {
   "display_name": "Python 3 (ipykernel)",
   "language": "python",
   "name": "python3"
  },
  "language_info": {
   "codemirror_mode": {
    "name": "ipython",
    "version": 3
   },
   "file_extension": ".py",
   "mimetype": "text/x-python",
   "name": "python",
   "nbconvert_exporter": "python",
   "pygments_lexer": "ipython3",
   "version": "3.9.13"
  }
 },
 "nbformat": 4,
 "nbformat_minor": 5
}
